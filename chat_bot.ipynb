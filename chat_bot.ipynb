{
  "nbformat": 4,
  "nbformat_minor": 0,
  "metadata": {
    "colab": {
      "provenance": []
    },
    "kernelspec": {
      "name": "python3",
      "display_name": "Python 3"
    },
    "language_info": {
      "name": "python"
    }
  },
  "cells": [
    {
      "cell_type": "code",
      "source": [
        "import random\n",
        "from sklearn.feature_extraction.text import TfidfVectorizer\n",
        "from sklearn.metrics.pairwise import cosine_similarity\n",
        "\n",
        "# define some example conversation pairs\n",
        "conversation_pairs = [\n",
        "    [\"Hello\", [\"Hi there!\", \"Hello!\", \"Greetings!\"]],\n",
        "    [\"How are you?\", [\"I'm doing fine, thank you!\", \"Not too bad, thanks for asking.\", \"I'm feeling great!\"]],\n",
        "    [\"What's your name?\", [\"My name is Chatbot.\", \"I'm Chatbot!\"]],\n",
        "    [\"What do you do?\", [\"I can help you with general questions.\", \"I am here to assist you.\", \"I can help you with a variety of things.\"]],\n",
        "    [\"Goodbye\", [\"Goodbye!\", \"Nice chatting with you!\", \"See you later!\"]]\n",
        "]\n",
        "\n",
        "# create the training data from the conversation pairs\n",
        "training_data = []\n",
        "for pair in conversation_pairs:\n",
        "    for sentence in pair[1]:\n",
        "        training_data.append((pair[0], sentence))\n",
        "\n",
        "# create the TF-IDF vectorizer\n",
        "tfidf_vectorizer = TfidfVectorizer()\n",
        "\n",
        "# fit and transform the training data\n",
        "tfidf = tfidf_vectorizer.fit_transform([x[0] for x in training_data])\n",
        "\n",
        "# define a function to get the response to a user's input\n",
        "def get_response(user_input):\n",
        "    # transform the user's input into a TF-IDF vector\n",
        "    input_vector = tfidf_vectorizer.transform([user_input])\n",
        "\n",
        "    # calculate the cosine similarity between the input vector and the training data\n",
        "    similarity_scores = cosine_similarity(input_vector, tfidf)\n",
        "\n",
        "    # get the index of the most similar training data\n",
        "    index = similarity_scores.argmax()\n",
        "\n",
        "    # return the corresponding response\n",
        "    return training_data[index][1]\n",
        "\n",
        "# start the chatbot\n",
        "print(\"Hello, I'm Chatbot. How can I help you today?\")\n",
        "\n",
        "while True:\n",
        "    user_input = input(\"> \")\n",
        "    response = get_response(user_input)\n",
        "    print(response)\n"
      ],
      "metadata": {
        "colab": {
          "base_uri": "https://localhost:8080/"
        },
        "id": "k2kd7Ge-hiJU",
        "outputId": "357039e6-fa8f-42c3-920e-b2a0d84a23db"
      },
      "execution_count": null,
      "outputs": [
        {
          "metadata": {
            "tags": null
          },
          "name": "stdout",
          "output_type": "stream",
          "text": [
            "Hello, I'm Chatbot. How can I help you today?\n",
            "Hi there!\n",
            "I'm doing fine, thank you!\n",
            "I can help you with general questions.\n",
            "Goodbye!\n"
          ]
        }
      ]
    },
    {
      "cell_type": "code",
      "source": [],
      "metadata": {
        "id": "GvOEU2I2knaY"
      },
      "execution_count": null,
      "outputs": []
    },
    {
      "cell_type": "code",
      "source": [],
      "metadata": {
        "id": "NgFHTl_BiA91"
      },
      "execution_count": null,
      "outputs": []
    },
    {
      "cell_type": "code",
      "source": [],
      "metadata": {
        "id": "yBuzcsVBhT0p"
      },
      "execution_count": null,
      "outputs": []
    },
    {
      "cell_type": "code",
      "source": [],
      "metadata": {
        "id": "8JVD2ERvcsne"
      },
      "execution_count": null,
      "outputs": []
    }
  ]
}